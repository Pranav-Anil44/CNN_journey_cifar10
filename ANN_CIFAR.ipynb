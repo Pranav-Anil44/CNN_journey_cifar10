{
 "cells": [
  {
   "cell_type": "code",
   "execution_count": 20,
   "id": "af762495-039f-45d4-9ce0-9eb401accdeb",
   "metadata": {},
   "outputs": [],
   "source": [
    "import numpy as np\n",
    "import tensorflow as tf\n",
    "import matplotlib.pyplot as plt\n",
    "from tensorflow import keras"
   ]
  },
  {
   "cell_type": "code",
   "execution_count": 22,
   "id": "9fee0d9b-e04b-4d20-87d2-0ba0eb2e6e57",
   "metadata": {},
   "outputs": [],
   "source": []
  },
  {
   "cell_type": "code",
   "execution_count": 23,
   "id": "13f24184-d2f8-4c24-adb4-3a9428c1eff2",
   "metadata": {},
   "outputs": [],
   "source": []
  },
  {
   "cell_type": "code",
   "execution_count": 68,
   "id": "71935c6e-dfb5-4079-8a7b-dd29d07a60b8",
   "metadata": {},
   "outputs": [
    {
     "name": "stdout",
     "output_type": "stream",
     "text": [
      "Original shapes: (50000, 1) (10000, 1)\n",
      "After one-hot: (50000, 10) (10000, 10)\n",
      "Unique train classes: [0 1 2 3 4 5 6 7 8 9]\n"
     ]
    }
   ],
   "source": [
    "\n",
    "\n",
    "# load CIFAR-10 dataset\n",
    "(x_train, y_train), (x_test, y_test) = keras.datasets.cifar10.load_data()\n",
    "\n",
    "#now we can normalize the image, as we know the image is 255 pixel, we can just bring it down \n",
    "x_train=x_train.astype(\"float32\") / 255.0\n",
    "x_test=x_test.astype(\"float32\") / 255.0\n",
    "\n",
    "print(\"Original shapes:\", y_train.shape, y_test.shape)\n",
    "\n",
    "# Flatten label arrays\n",
    "y_train = y_train.flatten()   # (50000,)\n",
    "y_test = y_test.flatten()     # (10000,)\n",
    "\n",
    "# One-hot encode\n",
    "num_classes = 10\n",
    "y_train = keras.utils.to_categorical(y_train, num_classes)  # (50000, 10)\n",
    "y_test = keras.utils.to_categorical(y_test, num_classes)    # (10000, 10)\n",
    "\n",
    "print(\"After one-hot:\", y_train.shape, y_test.shape)\n",
    "print(\"Unique train classes:\", np.unique(np.argmax(y_train, axis=1)))"
   ]
  },
  {
   "cell_type": "code",
   "execution_count": 70,
   "id": "43fd3250-1580-4d01-9c29-9b361843b772",
   "metadata": {},
   "outputs": [],
   "source": [
    "#build ans ANN model\n",
    "from tensorflow.keras import layers\n",
    "\n",
    "model=keras.Sequential ([\n",
    "    layers.Dense(512, activation='relu',input_shape=(3072,)),\n",
    "    layers.Dense(256,activation='relu'),\n",
    "    layers.Dense(num_classes,activation='softmax')\n",
    "])\n"
   ]
  },
  {
   "cell_type": "code",
   "execution_count": 72,
   "id": "c20d9fd5-17c4-4c41-a350-0c0b5f2f77a5",
   "metadata": {},
   "outputs": [],
   "source": [
    "#now we can compile the model\n",
    "model.compile(optimizer=\"Adam\",loss=\"categorical_crossentropy\",\n",
    "              metrics=[\"accuracy\"])"
   ]
  },
  {
   "cell_type": "code",
   "execution_count": 76,
   "id": "6c17cb75-cd65-4dcf-8b9f-4830d988eb75",
   "metadata": {},
   "outputs": [],
   "source": [
    "# Flatten images (32x32x3 = 3072 features)\n",
    "x_train = x_train.reshape(-1, 32*32*3)\n",
    "x_test = x_test.reshape(-1, 32*32*3)"
   ]
  },
  {
   "cell_type": "code",
   "execution_count": 78,
   "id": "40615d3c-b646-4919-838e-de966c3c8b56",
   "metadata": {},
   "outputs": [
    {
     "name": "stdout",
     "output_type": "stream",
     "text": [
      "Epoch 1/10\n",
      "\u001b[1m313/313\u001b[0m \u001b[32m━━━━━━━━━━━━━━━━━━━━\u001b[0m\u001b[37m\u001b[0m \u001b[1m11s\u001b[0m 28ms/step - accuracy: 0.2582 - loss: 2.1570 - val_accuracy: 0.3724 - val_loss: 1.7975\n",
      "Epoch 2/10\n",
      "\u001b[1m313/313\u001b[0m \u001b[32m━━━━━━━━━━━━━━━━━━━━\u001b[0m\u001b[37m\u001b[0m \u001b[1m9s\u001b[0m 28ms/step - accuracy: 0.3780 - loss: 1.7447 - val_accuracy: 0.4061 - val_loss: 1.7002\n",
      "Epoch 3/10\n",
      "\u001b[1m313/313\u001b[0m \u001b[32m━━━━━━━━━━━━━━━━━━━━\u001b[0m\u001b[37m\u001b[0m \u001b[1m9s\u001b[0m 29ms/step - accuracy: 0.4142 - loss: 1.6413 - val_accuracy: 0.4369 - val_loss: 1.6061\n",
      "Epoch 4/10\n",
      "\u001b[1m313/313\u001b[0m \u001b[32m━━━━━━━━━━━━━━━━━━━━\u001b[0m\u001b[37m\u001b[0m \u001b[1m9s\u001b[0m 27ms/step - accuracy: 0.4381 - loss: 1.5800 - val_accuracy: 0.4280 - val_loss: 1.5947\n",
      "Epoch 5/10\n",
      "\u001b[1m313/313\u001b[0m \u001b[32m━━━━━━━━━━━━━━━━━━━━\u001b[0m\u001b[37m\u001b[0m \u001b[1m9s\u001b[0m 29ms/step - accuracy: 0.4543 - loss: 1.5262 - val_accuracy: 0.4486 - val_loss: 1.5739\n",
      "Epoch 6/10\n",
      "\u001b[1m313/313\u001b[0m \u001b[32m━━━━━━━━━━━━━━━━━━━━\u001b[0m\u001b[37m\u001b[0m \u001b[1m9s\u001b[0m 27ms/step - accuracy: 0.4619 - loss: 1.4954 - val_accuracy: 0.4545 - val_loss: 1.5444\n",
      "Epoch 7/10\n",
      "\u001b[1m313/313\u001b[0m \u001b[32m━━━━━━━━━━━━━━━━━━━━\u001b[0m\u001b[37m\u001b[0m \u001b[1m8s\u001b[0m 26ms/step - accuracy: 0.4898 - loss: 1.4461 - val_accuracy: 0.4655 - val_loss: 1.5201\n",
      "Epoch 8/10\n",
      "\u001b[1m313/313\u001b[0m \u001b[32m━━━━━━━━━━━━━━━━━━━━\u001b[0m\u001b[37m\u001b[0m \u001b[1m8s\u001b[0m 27ms/step - accuracy: 0.4976 - loss: 1.4147 - val_accuracy: 0.4643 - val_loss: 1.5196\n",
      "Epoch 9/10\n",
      "\u001b[1m313/313\u001b[0m \u001b[32m━━━━━━━━━━━━━━━━━━━━\u001b[0m\u001b[37m\u001b[0m \u001b[1m8s\u001b[0m 27ms/step - accuracy: 0.4995 - loss: 1.3978 - val_accuracy: 0.4805 - val_loss: 1.4764\n",
      "Epoch 10/10\n",
      "\u001b[1m313/313\u001b[0m \u001b[32m━━━━━━━━━━━━━━━━━━━━\u001b[0m\u001b[37m\u001b[0m \u001b[1m10s\u001b[0m 30ms/step - accuracy: 0.5124 - loss: 1.3676 - val_accuracy: 0.4784 - val_loss: 1.4899\n"
     ]
    }
   ],
   "source": [
    "#lets train the model\n",
    "history=model.fit(x_train,y_train,validation_split=0.2,epochs=10,batch_size=128,verbose=1)"
   ]
  },
  {
   "cell_type": "code",
   "execution_count": 80,
   "id": "1caba046-2377-47bb-9ad2-4626d7ddff99",
   "metadata": {},
   "outputs": [
    {
     "name": "stdout",
     "output_type": "stream",
     "text": [
      "y_train shape: (50000, 10)\n",
      "y_test shape: (10000, 10)\n",
      "Unique train classes: [0 1 2 3 4 5 6 7 8 9]\n"
     ]
    }
   ],
   "source": [
    "print(\"y_train shape:\", y_train.shape)\n",
    "print(\"y_test shape:\", y_test.shape)\n",
    "print(\"Unique train classes:\", np.unique(np.argmax(y_train, axis=1)))"
   ]
  },
  {
   "cell_type": "code",
   "execution_count": 82,
   "id": "fd63cab2-fc11-40ec-9904-b3654bb41e2b",
   "metadata": {},
   "outputs": [
    {
     "name": "stdout",
     "output_type": "stream",
     "text": [
      "Test Accuracy: 0.4772999882698059\n"
     ]
    }
   ],
   "source": [
    "test_loss, test_acc = model.evaluate(x_test, y_test, verbose=0)\n",
    "print(\"Test Accuracy:\", test_acc)"
   ]
  },
  {
   "cell_type": "code",
   "execution_count": 84,
   "id": "542c50d0-942a-45c3-92e5-999c7ef904ad",
   "metadata": {},
   "outputs": [
    {
     "data": {
      "image/png": "[encoded data removed]",
      "text/plain": [
       "<Figure size 640x480 with 1 Axes>"
      ]
     },
     "metadata": {},
     "output_type": "display_data"
    }
   ],
   "source": [
    "import matplotlib.pyplot as plt\n",
    "\n",
    "plt.plot(history.history[\"accuracy\"], label=\"Train Accuracy\")\n",
    "plt.plot(history.history[\"val_accuracy\"], label=\"Val Accuracy\")\n",
    "plt.xlabel(\"Epochs\")\n",
    "plt.ylabel(\"Accuracy\")\n",
    "plt.title(\"ANN on CIFAR-10\")\n",
    "plt.legend()\n",
    "plt.show()"
   ]
  },
  {
   "cell_type": "code",
   "execution_count": null,
   "id": "41912a54-5a5b-4a3c-85e3-f3cd27b36c73",
   "metadata": {},
   "outputs": [],
   "source": []
  }
 ],
 "metadata": {
  "kernelspec": {
   "display_name": "Python (fresh_env)",
   "language": "python",
   "name": "fresh_env"
  },
  "language_info": {
   "codemirror_mode": {
    "name": "ipython",
    "version": 3
   },
   "file_extension": ".py",
   "mimetype": "text/x-python",
   "name": "python",
   "nbconvert_exporter": "python",
   "pygments_lexer": "ipython3",
   "version": "3.9.21"
  }
 },
 "nbformat": 4,
 "nbformat_minor": 5
}
